{
 "cells": [
  {
   "cell_type": "code",
   "execution_count": 55,
   "metadata": {},
   "outputs": [
    {
     "name": "stdout",
     "output_type": "stream",
     "text": [
      "(91)-959-107-1117\n",
      "shreyverne@gmail.com\n"
     ]
    }
   ],
   "source": [
    "import re\n",
    "\n",
    "file=open(\"shaksphere.txt\",'r+')\n",
    "textfile=file.read()\n",
    "p=re.compile(r'\\(\\d\\d\\)-\\d\\d\\d-\\d\\d\\d-\\d\\d\\d\\d')\n",
    "mob=p.search(textfile)\n",
    "e=re.compile(r'\\w*@\\w*.com')\n",
    "em=e.search(textfile)\n",
    "print(mob.group())             \n",
    "print(em.group())"
   ]
  }
 ],
 "metadata": {
  "kernelspec": {
   "display_name": "Python 3",
   "language": "python",
   "name": "python3"
  },
  "language_info": {
   "codemirror_mode": {
    "name": "ipython",
    "version": 3
   },
   "file_extension": ".py",
   "mimetype": "text/x-python",
   "name": "python",
   "nbconvert_exporter": "python",
   "pygments_lexer": "ipython3",
   "version": "3.7.3"
  }
 },
 "nbformat": 4,
 "nbformat_minor": 2
}
